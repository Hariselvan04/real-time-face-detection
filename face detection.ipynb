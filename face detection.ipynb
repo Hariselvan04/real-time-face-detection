{
 "cells": [
  {
   "cell_type": "code",
   "execution_count": 3,
   "id": "a0bfb2ae",
   "metadata": {},
   "outputs": [],
   "source": [
    "import numpy as np #pip install numpy in cmd\n",
    "import cv2 # pip install numpy in cmd\n",
    "\n",
    "face_cascade = cv2.CascadeClassifier('haarcascade_frontalface_default.xml') #face model\n",
    "eye_cascade = cv2.CascadeClassifier('haarcascade_eye.xml') #eye model"
   ]
  },
  {
   "cell_type": "code",
   "execution_count": 4,
   "id": "8e812270",
   "metadata": {},
   "outputs": [],
   "source": [
    "cap = cv2.VideoCapture(0) #switch on camera in video mode\n",
    "while True:\n",
    "    boool, img = cap.read() #segmenting video into frame by frame\n",
    "    gray = cv2.cvtColor(img, cv2.COLOR_BGR2GRAY) #convert RGB to grayscale\n",
    "    faces = face_cascade.detectMultiScale(gray, 1.3, 5)\n",
    "    \n",
    "    #detection and mapping of face\n",
    "    for (x,y,w,h) in faces:\n",
    "        img = cv2.rectangle(img,(x,y),(x+w,y+h),(255,0,0),2)\n",
    "        roi_gray = gray[y:y+h, x:x+w]\n",
    "        roi_color = img[y:y+h, x:x+w]\n",
    "        eyes = eye_cascade.detectMultiScale(roi_gray)\n",
    "        \n",
    "        #detection and mapping of eyes\n",
    "        for (ex,ey,ew,eh) in eyes:\n",
    "            cv2.rectangle(roi_color,(ex,ey),(ex+ew,ey+eh),(0,255,0),2)\n",
    "            \n",
    "    cv2.imshow('img',img)#creating img window\n",
    "    \n",
    "    #stoping the loop\n",
    "    if cv2.waitKey(1) == ord('q'): \n",
    "        break\n",
    "cap.release() #switch off camera\n",
    "cv2.destroyAllWindows() #closing all windows created using cv2 library\n",
    "        "
   ]
  },
  {
   "cell_type": "code",
   "execution_count": null,
   "id": "e03adcda",
   "metadata": {},
   "outputs": [],
   "source": []
  }
 ],
 "metadata": {
  "kernelspec": {
   "display_name": "Python 3 (ipykernel)",
   "language": "python",
   "name": "python3"
  },
  "language_info": {
   "codemirror_mode": {
    "name": "ipython",
    "version": 3
   },
   "file_extension": ".py",
   "mimetype": "text/x-python",
   "name": "python",
   "nbconvert_exporter": "python",
   "pygments_lexer": "ipython3",
   "version": "3.10.4"
  }
 },
 "nbformat": 4,
 "nbformat_minor": 5
}
